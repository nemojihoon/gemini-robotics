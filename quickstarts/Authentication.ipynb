{
  "cells": [
    {
      "cell_type": "markdown",
      "metadata": {
        "id": "Tce3stUlHN0L"
      },
      "source": [
        "##### Copyright 2025 Google LLC."
      ]
    },
    {
      "cell_type": "code",
      "execution_count": null,
      "metadata": {
        "cellView": "form",
        "id": "tuOe1ymfHZPu"
      },
      "outputs": [],
      "source": [
        "# @title Licensed under the Apache License, Version 2.0 (the \"License\");\n",
        "# you may not use this file except in compliance with the License.\n",
        "# You may obtain a copy of the License at\n",
        "#\n",
        "# https://www.apache.org/licenses/LICENSE-2.0\n",
        "#\n",
        "# Unless required by applicable law or agreed to in writing, software\n",
        "# distributed under the License is distributed on an \"AS IS\" BASIS,\n",
        "# WITHOUT WARRANTIES OR CONDITIONS OF ANY KIND, either express or implied.\n",
        "# See the License for the specific language governing permissions and\n",
        "# limitations under the License."
      ]
    },
    {
      "cell_type": "markdown",
      "metadata": {
        "id": "yeadDkMiISin"
      },
      "source": [
        "# Gemini API: Authentication Quickstart"
      ]
    },
    {
      "cell_type": "markdown",
      "metadata": {
        "id": "lEXQ3OwKIa-O"
      },
      "source": [
        "<a target=\"_blank\" href=\"https://colab.research.google.com/github/google-gemini/cookbook/blob/main/quickstarts/Authentication.ipynb\"><img src=\"https://colab.research.google.com/assets/colab-badge.svg\" height=30/></a>"
      ]
    },
    {
      "cell_type": "markdown",
      "metadata": {
        "id": "df1767a3d1cc"
      },
      "source": [
        "The Gemini API uses API keys for authentication. This notebook walks you through creating an API key, and using it with the Python SDK or a command-line tool like `curl`."
      ]
    },
    {
      "cell_type": "markdown",
      "metadata": {
        "id": "mhFKmRmxi5B-"
      },
      "source": [
        "## Create an API key\n",
        "\n",
        "You can [create](https://aistudio.google.com/app/apikey) your API key using Google AI Studio with a single click.  \n",
        "\n",
        "Remember to treat your API key like a password. Don't accidentally save it in a notebook or source file you later commit to GitHub. This notebook shows you two ways you can securely store your API key.\n",
        "\n",
        "* If you're using Google Colab, it's recommended to store your key in Colab Secrets.\n",
        "\n",
        "* If you're using a different development environment (or calling the Gemini API through `cURL` in your terminal), it's recommended to store your key in an [environment variable](https://en.wikipedia.org/wiki/Environment_variable).\n",
        "\n",
        "Let's start with Colab Secrets."
      ]
    },
    {
      "cell_type": "markdown",
      "metadata": {
        "id": "dEoigYI9Jw_K"
      },
      "source": [
        "## Add your key to Colab Secrets\n",
        "\n",
        "Add your API key to the Colab Secrets manager to securely store it.\n",
        "\n",
        "1. Open your Google Colab notebook and click on the 🔑 **Secrets** tab in the left panel.\n",
        "   \n",
        "   <img src=\"https://storage.googleapis.com/generativeai-downloads/images/secrets.jpg\" alt=\"You can find the Secrets tab on the left panel.\" width=50%>\n",
        "\n",
        "2. Create a new secret with the name `GOOGLE_API_KEY`.\n",
        "3. Copy and paste your API key into the `Value` input box of `GOOGLE_API_KEY`.\n",
        "4. Toggle the button on the left to allow all notebooks access to the secret.\n"
      ]
    },
    {
      "cell_type": "markdown",
      "metadata": {
        "id": "jRY1eioF4gUB"
      },
      "source": [
        "## Install the Python SDK"
      ]
    },
    {
      "cell_type": "code",
      "execution_count": 8,
      "metadata": {
        "id": "xuiLSV7amy3P"
      },
      "outputs": [],
      "source": [
        "%pip install -qU \"google-genai>=1.21.1,<=1.40.0\""
      ]
    },
    {
      "cell_type": "markdown",
      "metadata": {
        "id": "3dw8ygh74mVc"
      },
      "source": [
        "## Configure the SDK with your API key\n",
        "\n",
        "You create a client using your API key, but instead of pasting your key into the notebook, you'll read it from Colab Secrets thanks to `userdata`."
      ]
    },
    {
      "cell_type": "code",
      "execution_count": 9,
      "metadata": {
        "id": "DTl-qZp34sht"
      },
      "outputs": [],
      "source": [
        "from google import genai\n",
        "from google.colab import userdata\n",
        "\n",
        "GOOGLE_API_KEY = userdata.get('GOOGLE_API_KEY')\n",
        "client = genai.Client(api_key=GOOGLE_API_KEY)"
      ]
    },
    {
      "cell_type": "markdown",
      "metadata": {
        "id": "b7ceb7517bf5"
      },
      "source": [
        "Now choose a model. The Gemini API offers different models that are optimized for specific use cases. For more information check [Gemini models](https://ai.google.dev/gemini-api/docs/models)"
      ]
    },
    {
      "cell_type": "code",
      "execution_count": 10,
      "metadata": {
        "id": "7135d9ae3e4b"
      },
      "outputs": [],
      "source": [
        "MODEL_ID = \"gemini-2.5-flash-lite\" # @param [\"gemini-2.5-flash-lite\", \"gemini-2.5-flash-lite-preview-09-2025\", \"gemini-2.5-flash\", \"gemini-2.5-flash-preview-09-2025\", \"gemini-2.5-pro\"] {\"allow-input\":true, isTemplate: true}"
      ]
    },
    {
      "cell_type": "markdown",
      "metadata": {
        "id": "tr7oAO6-nMsE"
      },
      "source": [
        "And that's it! Now you're ready to call the Gemini API."
      ]
    },
    {
      "cell_type": "code",
      "execution_count": 11,
      "metadata": {
        "id": "n6sXnWrJoKoo",
        "colab": {
          "base_uri": "https://localhost:8080/",
          "height": 1000
        },
        "outputId": "e93e12fa-d1a9-4b02-f8fb-2ca0e131552c"
      },
      "outputs": [
        {
          "output_type": "display_data",
          "data": {
            "text/plain": [
              "<IPython.core.display.Markdown object>"
            ],
            "text/markdown": "You can sort a `std::vector` in C++ using the `std::sort` function from the `<algorithm>` header. This function is highly efficient and can sort elements in ascending order by default.\n\nHere's a breakdown of how to use it, along with various scenarios:\n\n**1. Basic Sorting (Ascending Order)**\n\nThis is the most common use case.\n\n```cpp\n#include <iostream>\n#include <vector>\n#include <algorithm> // Required for std::sort\n\nint main() {\n    std::vector<int> numbers = {5, 2, 8, 1, 9, 4};\n\n    // Sort the vector in ascending order\n    std::sort(numbers.begin(), numbers.end());\n\n    // Print the sorted vector\n    std::cout << \"Sorted vector (ascending): \";\n    for (int num : numbers) {\n        std::cout << num << \" \";\n    }\n    std::cout << std::endl;\n\n    return 0;\n}\n```\n\n**Explanation:**\n\n*   **`#include <vector>`:**  Includes the definition for `std::vector`.\n*   **`#include <algorithm>`:**  This is crucial. It contains the `std::sort` function.\n*   **`std::vector<int> numbers = {5, 2, 8, 1, 9, 4};`:**  Declares and initializes a vector of integers.\n*   **`std::sort(numbers.begin(), numbers.end());`:**\n    *   `numbers.begin()`: Returns an iterator pointing to the first element of the vector.\n    *   `numbers.end()`: Returns an iterator pointing to the theoretical element *after* the last element of the vector. `std::sort` sorts the range `[first, last)`, meaning it includes the element pointed to by `first` but excludes the element pointed to by `last`. This is the standard convention for iterator ranges in C++.\n\n**2. Sorting in Descending Order**\n\nTo sort in descending order, you have a few options:\n\n*   **Using `std::greater<T>()` as a comparator:**\n\n    ```cpp\n    #include <iostream>\n    #include <vector>\n    #include <algorithm>\n    #include <functional> // Required for std::greater\n\n    int main() {\n        std::vector<int> numbers = {5, 2, 8, 1, 9, 4};\n\n        // Sort the vector in descending order\n        std::sort(numbers.begin(), numbers.end(), std::greater<int>());\n\n        // Print the sorted vector\n        std::cout << \"Sorted vector (descending): \";\n        for (int num : numbers) {\n            std::cout << num << \" \";\n        }\n        std::cout << std::endl;\n\n        return 0;\n    }\n    ```\n\n    *   **`std::greater<int>()`:** This is a function object (or \"functor\") from `<functional>` that defines the \"greater than\" comparison.\n\n*   **Using a Lambda Expression as a comparator:**\n\n    ```cpp\n    #include <iostream>\n    #include <vector>\n    #include <algorithm>\n\n    int main() {\n        std::vector<int> numbers = {5, 2, 8, 1, 9, 4};\n\n        // Sort the vector in descending order using a lambda\n        std::sort(numbers.begin(), numbers.end(), [](int a, int b) {\n            return a > b; // Return true if 'a' should come before 'b' (i.e., 'a' is greater than 'b')\n        });\n\n        // Print the sorted vector\n        std::cout << \"Sorted vector (descending with lambda): \";\n        for (int num : numbers) {\n            std::cout << num << \" \";\n        }\n        std::cout << std::endl;\n\n        return 0;\n    }\n    ```\n\n    *   **`[](int a, int b) { return a > b; }`:** This is a lambda function. It takes two integers `a` and `b` and returns `true` if `a` should be placed before `b` in the sorted sequence (meaning `a` is greater than `b` for descending order).\n\n**3. Sorting a Vector of Custom Objects**\n\nIf you have a vector of your own custom classes or structs, you need to tell `std::sort` how to compare them. You can do this by:\n\n*   **Overloading the `<` operator for your class:** `std::sort` will use this operator by default if no comparator is provided.\n\n    ```cpp\n    #include <iostream>\n    #include <vector>\n    #include <algorithm>\n    #include <string>\n\n    struct Person {\n        std::string name;\n        int age;\n\n        // Overload the less than operator for sorting by age (ascending)\n        bool operator<(const Person& other) const {\n            return age < other.age;\n        }\n    };\n\n    int main() {\n        std::vector<Person> people = {\n            {\"Alice\", 30},\n            {\"Bob\", 25},\n            {\"Charlie\", 35},\n            {\"David\", 25}\n        };\n\n        // Sort by age (ascending) using the overloaded < operator\n        std::sort(people.begin(), people.end());\n\n        std::cout << \"Sorted people by age (ascending):\" << std::endl;\n        for (const auto& p : people) {\n            std::cout << p.name << \" (Age: \" << p.age << \")\" << std::endl;\n        }\n\n        return 0;\n    }\n    ```\n\n*   **Providing a custom comparator (lambda or function object):** This is often more flexible if you need to sort by different criteria.\n\n    ```cpp\n    #include <iostream>\n    #include <vector>\n    #include <algorithm>\n    #include <string>\n    #include <functional> // For std::function or std::bind\n\n    struct Person {\n        std::string name;\n        int age;\n    };\n\n    // Comparator function to sort by name alphabetically\n    bool compareByName(const Person& a, const Person& b) {\n        return a.name < b.name;\n    }\n\n    int main() {\n        std::vector<Person> people = {\n            {\"Alice\", 30},\n            {\"Bob\", 25},\n            {\"Charlie\", 35},\n            {\"David\", 25}\n        };\n\n        // Sort by name alphabetically using a comparator function\n        std::sort(people.begin(), people.end(), compareByName);\n\n        std::cout << \"Sorted people by name (alphabetical):\" << std::endl;\n        for (const auto& p : people) {\n            std::cout << p.name << \" (Age: \" << p.age << \")\" << std::endl;\n        }\n\n        // Sort by age (descending) using a lambda\n        std::sort(people.begin(), people.end(), [](const Person& a, const Person& b) {\n            return a.age > b.age;\n        });\n\n        std::cout << \"\\nSorted people by age (descending):\" << std::endl;\n        for (const auto& p : people) {\n            std::cout << p.name << \" (Age: \" << p.age << \")\" << std::endl;\n        }\n\n        return 0;\n    }\n    ```\n\n**4. Sorting a Vector of Pairs or Tuples**\n\n`std::sort` works directly with `std::pair` and `std::tuple`. By default, it sorts lexicographically (first by the first element, then by the second if the first elements are equal, and so on).\n\n```cpp\n#include <iostream>\n#include <vector>\n#include <algorithm>\n#include <utility> // For std::pair\n\nint main() {\n    std::vector<std::pair<int, std::string>> data = {\n        {3, \"apple\"},\n        {1, \"banana\"},\n        {2, \"cherry\"},\n        {1, \"apricot\"}\n    };\n\n    // Sort by the first element (int), then by the second (string)\n    std::sort(data.begin(), data.end());\n\n    std::cout << \"Sorted pairs:\" << std::endl;\n    for (const auto& p : data) {\n        std::cout << \"{\" << p.first << \", \\\"\" << p.second << \"\\\"}\" << std::endl;\n    }\n\n    return 0;\n}\n```\n\n**Key Points to Remember:**\n\n*   **Include `<algorithm>`:** This is where `std::sort` lives.\n*   **Iterators are essential:** `std::sort` operates on a range defined by iterators (`begin()` and `end()`).\n*   **Custom comparison:** For non-built-in types or custom sorting orders, you **must** provide a way for `std::sort` to compare elements. This is done via a third argument:\n    *   **Overloaded `<` operator:** `std::sort` uses this by default if you don't provide a comparator.\n    *   **Function pointer:** A function that takes two elements and returns `true` if the first should come before the second.\n    *   **Function object (functor):** An object that overloads `operator()`. `std::greater` and `std::less` are examples.\n    *   **Lambda expression:** A concise way to define anonymous functions inline.\n*   **Efficiency:** `std::sort` typically uses an introsort algorithm (a hybrid of quicksort, heapsort, and insertion sort), which offers an average time complexity of **O(N log N)** and a worst-case time complexity of **O(N log N)**.\n\nChoose the method that best suits your needs for clarity and flexibility when sorting your `std::vector`."
          },
          "metadata": {}
        }
      ],
      "source": [
        "from IPython.display import Markdown\n",
        "\n",
        "response = client.models.generate_content(\n",
        "    model=MODEL_ID,\n",
        "    contents=\"How to sort a vector in cpp?\"\n",
        ")\n",
        "\n",
        "display(Markdown(response.text))"
      ]
    },
    {
      "cell_type": "markdown",
      "metadata": {
        "id": "BTdQtZri1Brs"
      },
      "source": [
        "## Store your key in an environment variable"
      ]
    },
    {
      "cell_type": "markdown",
      "metadata": {
        "id": "gZDX51Y27pN4"
      },
      "source": [
        "If you're using a different development environment (or calling the Gemini API through `cURL` in your terminal), it's recommended to store your key in an environment variable.\n",
        "\n",
        "To store your key in an environment variable, open your terminal and run:\n",
        "\n",
        "```export GOOGLE_API_KEY=\"YOUR_API_KEY\"```\n",
        "\n",
        "If you're using Python, you can add these two lines to your notebook to read the key:\n",
        "\n",
        "```\n",
        "import os\n",
        "client = genai.Client(api_key=os.environ['GOOGLE_API_KEY'])\n",
        "```\n",
        "\n",
        "Alternatively, if it isn't provided explicitly, the client will look for the API key.\n",
        "\n",
        "```\n",
        "client = genai.Client()\n",
        "```\n",
        "\n",
        "Or, if you're calling the API through your terminal using `cURL`, you can copy and paste this code to read your key from the environment variable.\n",
        "\n",
        "```\n",
        "curl \"https://generativelanguage.googleapis.com/v1beta/models/gemini-2.5-flash:generateContent?key=$GOOGLE_API_KEY\" \\\n",
        "    -H 'Content-Type: application/json' \\\n",
        "    -X POST \\\n",
        "    -d '{\n",
        "      \"contents\": [{\n",
        "        \"parts\":[{\n",
        "          \"text\": \"Please give me Python code to sort a list.\"\n",
        "        }]\n",
        "      }]\n",
        "    }'\n",
        "```\n"
      ]
    },
    {
      "cell_type": "markdown",
      "metadata": {
        "id": "CAOKOcax1xZY"
      },
      "source": [
        "## Learning more\n",
        "\n",
        "Now that you know how to manage your API key, you've everything to [get started](./Get_started.ipynb) with Gemini. Check all the [quickstart guides](https://github.com/google-gemini/cookbook/tree/main/quickstarts) from the Cookbook, and in particular the [Get started](./Get_started.ipynb) one."
      ]
    }
  ],
  "metadata": {
    "colab": {
      "name": "Authentication.ipynb",
      "toc_visible": true,
      "provenance": []
    },
    "google": {
      "image_path": "/site-assets/images/share.png",
      "keywords": [
        "examples",
        "googleai",
        "samplecode",
        "python",
        "embed",
        "function"
      ]
    },
    "kernelspec": {
      "display_name": "Python 3",
      "name": "python3"
    }
  },
  "nbformat": 4,
  "nbformat_minor": 0
}